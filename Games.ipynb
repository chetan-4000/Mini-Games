{
 "cells": [
  {
   "cell_type": "code",
   "execution_count": null,
   "id": "38ae222b",
   "metadata": {},
   "outputs": [],
   "source": [
    "# Love Calculator\n",
    "print(\"Welcome to Love Calculator\")\n",
    "name1 = input(\"What is your name:\\n\")\n",
    "name2 = input(\"What is their name:\\n\")\n",
    "\n",
    "n1l = name1.lower()\n",
    "n2l = name2.lower()\n",
    "\n",
    "t = n1l.count(\"t\") +n2l.count(\"t\")\n",
    "r = n1l.count(\"r\") +n2l.count(\"r\")\n",
    "u = n1l.count(\"u\") +n2l.count(\"u\")\n",
    "e1 = n1l.count(\"e\") +n2l.count(\"e\")\n",
    "A = t+r+u+e1\n",
    "\n",
    "l = n1l.count(\"l\") +n2l.count(\"l\")\n",
    "o = n1l.count(\"o\") +n2l.count(\"o\")\n",
    "v = n1l.count(\"v\") +n2l.count(\"v\")\n",
    "e2 = n1l.count(\"e\") +n2l.count(\"e\")\n",
    "B = l+o+v+e2\n",
    "\n",
    "P = str(A) + str(B) \n",
    "\n",
    "if int(P) > 10 or int(P) < 90:\n",
    "    print(\"Your Love Score out of 100 is \" + \" \" + P + \",you go together like coke and mentos\")\n",
    "elif int(P) <= 40 and (intP) >= 50:\n",
    "    print(\"Your Love Score out of 100 is \" + \" \" + P + \",you are alright together\")\n",
    "else:\n",
    "    print(\"Your Love Score out of 100 is \" + \" \" + P )"
   ]
  },
  {
   "cell_type": "code",
   "execution_count": null,
   "id": "53de3ba9",
   "metadata": {},
   "outputs": [],
   "source": [
    "print('''\n",
    " _                                     _     _                 _ \n",
    "| |                                   (_)   | |               | |\n",
    "| |_ _ __ ___  __ _ ___ _   _ _ __ ___ _ ___| | __ _ _ __   __| |\n",
    "| __| '__/ _ \\/ _` / __| | | | '__/ _ \\ / __| |/ _` | '_ \\ / _` |\n",
    "| |_| | |  __/ (_| \\__ \\ |_| | | |  __/ \\__ \\ | (_| | | | | (_| |\n",
    " \\__|_|  \\___|\\__,_|___/\\__,_|_|  \\___|_|___/_|\\__,_|_| |_|\\__,_|\n",
    " ''')\n",
    "\n",
    "print(\"Welcome to treasure island. Your task is to find treasure\")\n",
    "\n",
    "first = input(\"You want to go Right or Left?\")\n",
    "fl = first.lower()\n",
    "\n",
    "if fl == \"left\":\n",
    "    second = input(\"You want to swim or wait\")\n",
    "    sl = second.lower()\n",
    "    \n",
    "    if sl == \"wait\":\n",
    "        print(\"You got a boat and went to the Mansion safely.\")\n",
    "        third = input(\"Which door would you like to go in?Red,Blue or Yellow\")\n",
    "        tl = third.lower()\n",
    "        \n",
    "        if tl == \"yellow\":\n",
    "            print (\"Congratulations! You found the Treasure.\")\n",
    "        elif tl == \"red\":\n",
    "                print(\"You are burned by fire.\")\n",
    "                print(\"Game over!!!\")\n",
    "        elif tl == \"blue\":\n",
    "                print(\"Eaten By Beastes\")\n",
    "                print(\"Game over!!!\")\n",
    "        \n",
    "    else:\n",
    "        print(\"Game over!!!\")\n",
    "    \n",
    "else:\n",
    "    print(\"Game over!!!\")"
   ]
  },
  {
   "cell_type": "code",
   "execution_count": null,
   "id": "52c57ca6",
   "metadata": {},
   "outputs": [],
   "source": [
    "# FIZZBUZZ\n",
    "for i in range(1,101):\n",
    "    if i%3 == 0 and i%5 == 0:\n",
    "        print(\"FIZZBUZZ\")\n",
    "    elif i%3 == 0:\n",
    "        print(\"FIZZ\")\n",
    "    elif i%5 == 0:\n",
    "        print(\"BUZZ\")\n",
    "    else:\n",
    "        print(i)"
   ]
  },
  {
   "cell_type": "code",
   "execution_count": null,
   "id": "567229ee",
   "metadata": {},
   "outputs": [],
   "source": []
  }
 ],
 "metadata": {
  "kernelspec": {
   "display_name": "Python 3",
   "language": "python",
   "name": "python3"
  },
  "language_info": {
   "codemirror_mode": {
    "name": "ipython",
    "version": 3
   },
   "file_extension": ".py",
   "mimetype": "text/x-python",
   "name": "python",
   "nbconvert_exporter": "python",
   "pygments_lexer": "ipython3",
   "version": "3.8.8"
  }
 },
 "nbformat": 4,
 "nbformat_minor": 5
}
